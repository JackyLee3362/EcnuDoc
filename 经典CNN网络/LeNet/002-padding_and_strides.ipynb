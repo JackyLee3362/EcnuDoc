{
 "cells": [
  {
   "cell_type": "markdown",
   "source": [
    "# 填充和步幅"
   ],
   "metadata": {
    "collapsed": false
   }
  },
  {
   "cell_type": "markdown",
   "source": [
    "## 填充"
   ],
   "metadata": {
    "collapsed": false
   }
  },
  {
   "cell_type": "code",
   "execution_count": 3,
   "outputs": [
    {
     "data": {
      "text/plain": "(torch.Size([8, 8]),\n tensor([[ 0.0714,  0.0504,  0.1562, -0.0666, -0.1144, -0.0943,  0.0579, -0.0900],\n         [-0.0072, -0.1048, -0.0634, -0.0562, -0.2340,  0.0297, -0.0277,  0.1091],\n         [-0.2513, -0.0791, -0.2013, -0.2762,  0.1247,  0.1827, -0.2390, -0.0014],\n         [-0.2242, -0.1642, -0.1080,  0.0346, -0.0165, -0.1682, -0.1300,  0.1590],\n         [-0.3896, -0.0921,  0.0177,  0.0593,  0.0774, -0.1878, -0.3540,  0.1836],\n         [-0.2622,  0.0832, -0.1569, -0.0736, -0.1377, -0.1458, -0.0463,  0.2560],\n         [-0.1209,  0.0822, -0.1198, -0.2165,  0.0112, -0.0714, -0.0062,  0.1421],\n         [ 0.0833,  0.0520, -0.1787,  0.1485,  0.1856,  0.0394,  0.1295,  0.3206]],\n        grad_fn=<ReshapeAliasBackward0>))"
     },
     "execution_count": 3,
     "metadata": {},
     "output_type": "execute_result"
    }
   ],
   "source": [
    "import torch\n",
    "from torch import nn\n",
    "\n",
    "def comp_conv2d(conv2d, X):\n",
    "    X = X.reshape((1, 1) + X.shape)  # 在X张量前加入批量大小维度和通道维度，均为1\n",
    "    Y = conv2d(X)\n",
    "    return Y.reshape(Y.shape[2:])  #返回只有两维的Y\n",
    "\n",
    "conv2d = nn.Conv2d(1, 1, kernel_size=3, padding=1)\n",
    "X = torch.rand(8, 8)\n",
    "Y = comp_conv2d(conv2d, X)\n",
    "Y.shape, Y"
   ],
   "metadata": {
    "collapsed": false
   }
  },
  {
   "cell_type": "code",
   "execution_count": 18,
   "outputs": [
    {
     "data": {
      "text/plain": "(torch.Size([8, 8]),\n tensor([[ 0.4427,  0.4898,  0.5432,  0.4711,  0.5633,  0.5083,  0.4578,  0.3319],\n         [ 0.5871,  0.7441,  0.6176,  0.6675,  0.5224,  0.4396,  0.4498,  0.4301],\n         [ 0.4833,  0.6092,  0.5473,  0.5266,  0.5455,  0.3886,  0.4666,  0.1020],\n         [ 0.6265,  0.4445,  0.5100,  0.5542,  0.3836,  0.5467,  0.5542,  0.1761],\n         [ 0.4509,  0.5986,  0.3730,  0.3166,  0.5025,  0.8746,  0.3448,  0.0082],\n         [ 0.6195,  0.5534,  0.3819,  0.3191,  0.3726,  0.5615,  0.4714, -0.0815],\n         [ 0.3653,  0.1340,  0.4234,  0.3157,  0.2408,  0.2716,  0.1541, -0.1452],\n         [ 0.2002,  0.1206,  0.2619,  0.1915,  0.0683,  0.2240,  0.0882, -0.0274]],\n        grad_fn=<ReshapeAliasBackward0>))"
     },
     "execution_count": 18,
     "metadata": {},
     "output_type": "execute_result"
    }
   ],
   "source": [
    "conv2d = nn.Conv2d(1, 1, kernel_size=(5, 3), padding=(2, 1))  #可以指定高和宽维度具体卷积核尺寸和填充\n",
    "Y = comp_conv2d(conv2d, X)\n",
    "Y.shape, Y"
   ],
   "metadata": {
    "collapsed": false
   }
  },
  {
   "cell_type": "markdown",
   "source": [
    "## 步幅"
   ],
   "metadata": {
    "collapsed": false
   }
  },
  {
   "cell_type": "code",
   "execution_count": 19,
   "outputs": [
    {
     "data": {
      "text/plain": "torch.Size([4, 4])"
     },
     "execution_count": 19,
     "metadata": {},
     "output_type": "execute_result"
    }
   ],
   "source": [
    "conv2d = nn.Conv2d(1, 1, kernel_size=3, padding=1, stride=2)\n",
    "comp_conv2d(conv2d, X).shape"
   ],
   "metadata": {
    "collapsed": false
   }
  },
  {
   "cell_type": "code",
   "execution_count": 21,
   "outputs": [
    {
     "data": {
      "text/plain": "torch.Size([4, 4])"
     },
     "execution_count": 21,
     "metadata": {},
     "output_type": "execute_result"
    }
   ],
   "source": [
    "conv2d = nn.Conv2d(1, 1, kernel_size=(5, 3), padding=(2, 1), stride=2)\n",
    "comp_conv2d(conv2d, X).shape"
   ],
   "metadata": {
    "collapsed": false
   }
  },
  {
   "cell_type": "code",
   "execution_count": 22,
   "outputs": [
    {
     "data": {
      "text/plain": "torch.Size([2, 2])"
     },
     "execution_count": 22,
     "metadata": {},
     "output_type": "execute_result"
    }
   ],
   "source": [
    "conv2d = nn.Conv2d(1, 1, kernel_size=(3, 5), padding=(0, 1), stride=(3, 4))\n",
    "comp_conv2d(conv2d, X).shape"
   ],
   "metadata": {
    "collapsed": false
   }
  },
  {
   "cell_type": "code",
   "execution_count": null,
   "outputs": [],
   "source": [],
   "metadata": {
    "collapsed": false
   }
  }
 ],
 "metadata": {
  "kernelspec": {
   "display_name": "Python 3",
   "language": "python",
   "name": "python3"
  },
  "language_info": {
   "codemirror_mode": {
    "name": "ipython",
    "version": 2
   },
   "file_extension": ".py",
   "mimetype": "text/x-python",
   "name": "python",
   "nbconvert_exporter": "python",
   "pygments_lexer": "ipython2",
   "version": "2.7.6"
  }
 },
 "nbformat": 4,
 "nbformat_minor": 0
}
